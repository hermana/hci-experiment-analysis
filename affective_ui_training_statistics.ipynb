{
 "cells": [
  {
   "cell_type": "markdown",
   "id": "33a9d585",
   "metadata": {},
   "source": [
    "# Affective Dimensions of UI Training: Statistical Analysis of Results "
   ]
  },
  {
   "cell_type": "code",
   "execution_count": 39,
   "id": "179ff44f",
   "metadata": {},
   "outputs": [],
   "source": [
    "import pandas as pd \n",
    "import scipy.stats as stats\n",
    "\n",
    "from util.survey_structure import MOTIVATION_8_PART_STATEMENTS"
   ]
  },
  {
   "cell_type": "code",
   "execution_count": 40,
   "id": "76104ab9",
   "metadata": {},
   "outputs": [],
   "source": [
    "NO_GUIDE_IMI = pd.read_csv('./no-guide-all-questionnaires.csv')\n",
    "NO_GUIDE_IMI['condition'] = 'no-guide'\n",
    "SIMON_IMI = pd.read_csv('./simon-all-questionnaires.csv')\n",
    "SIMON_IMI['condition'] = 'simon'\n",
    "SPOTLIGHT_IMI = pd.read_csv('./spotlight-all-questionnaires.csv')\n",
    "SPOTLIGHT_IMI['condition'] = 'spotlight'\n",
    "\n",
    "IMI = pd.concat([NO_GUIDE_IMI, SIMON_IMI, SPOTLIGHT_IMI], ignore_index=True)"
   ]
  },
  {
   "cell_type": "code",
   "execution_count": 41,
   "id": "d213f2be",
   "metadata": {},
   "outputs": [],
   "source": [
    "# Note Side Effects: This function will alter the original dataframe (shallow copy)\n",
    "def format_likert_data_for_stats(df: pd.DataFrame, likert_columns: list) -> pd.DataFrame:\n",
    "    for column_name in likert_columns:\n",
    "        df[column_name] = df[column_name].replace('1 (Strongly Disagree)', '1')\n",
    "        df[column_name] = df[column_name].replace('7 (Strongly Agree)', '7')\n",
    "        df[column_name] = df[column_name].replace('4 (Neutral)', '4')\n",
    "        df[column_name] = df[column_name].astype('int64')\n",
    "    return df"
   ]
  },
  {
   "cell_type": "code",
   "execution_count": 42,
   "id": "fafa745f",
   "metadata": {},
   "outputs": [],
   "source": [
    "\n",
    "imi_dimensions = ['already_memorized',\n",
    "       'dont_want_to_continue', 'boring_task', 'satisfied_performance',\n",
    "       'effort_task', 'relaxed_task', 'help_memorize_commands']"
   ]
  },
  {
   "cell_type": "code",
   "execution_count": 43,
   "id": "658182b9",
   "metadata": {},
   "outputs": [],
   "source": [
    "SIMON_IMI = format_likert_data_for_stats(SIMON_IMI, imi_dimensions)\n",
    "SPOTLIGHT_IMI = format_likert_data_for_stats(SPOTLIGHT_IMI, imi_dimensions)\n",
    "NO_GUIDE_IMI = format_likert_data_for_stats(NO_GUIDE_IMI, imi_dimensions)"
   ]
  },
  {
   "cell_type": "markdown",
   "id": "7fbe2ef2",
   "metadata": {},
   "source": [
    "## Kruskal Wallis test "
   ]
  },
  {
   "cell_type": "code",
   "execution_count": 49,
   "id": "49de69b3",
   "metadata": {},
   "outputs": [],
   "source": [
    "def get_kruskal_wallis(imi_one, imi_two):\n",
    "    for dimension in imi_dimensions:\n",
    "        try:\n",
    "            H, pval = stats.mstats.kruskalwallis(imi_one[dimension].values, imi_two[dimension].values)\n",
    "            if pval<0.05:\n",
    "                print(f\"Significant differences exist for '{MOTIVATION_8_PART_STATEMENTS[dimension]}', with a p-value of {pval}\")\n",
    "        except:\n",
    "            print(f\"Cannot compute Kruskal-Wallis for '{MOTIVATION_8_PART_STATEMENTS[dimension]}', all numbers are identical.\")          "
   ]
  },
  {
   "cell_type": "code",
   "execution_count": 50,
   "id": "5e1624f2",
   "metadata": {},
   "outputs": [
    {
     "name": "stdout",
     "output_type": "stream",
     "text": [
      "Getting Kruskal Wallis H Test results...\n",
      "\n",
      "\n",
      "For Simon v. Spotlight:\n",
      "Significant differences exist for 'I would skip further training because I have already memorized the locations.', with a p-value of 0.0004995125352300221\n",
      "Significant differences exist for 'I would skip further training because I do not want to continue doing this task.', with a p-value of 0.0003395995180938998\n",
      "Significant differences exist for 'I think doing this task could help me to memorize the locations of useful commands when I'm using complex software.', with a p-value of 2.9023720992561654e-12\n",
      "\n",
      "\n",
      "For Simon v. No Guide:\n",
      "Significant differences exist for 'I would skip further training because I have already memorized the locations.', with a p-value of 0.013021361892036112\n",
      "Significant differences exist for 'I would skip further training because I do not want to continue doing this task.', with a p-value of 8.396544467577104e-07\n",
      "Significant differences exist for 'I am satisfied with my performance at this task.', with a p-value of 0.018035130352763308\n",
      "Significant differences exist for 'I put a lot of effort into this task.', with a p-value of 3.349590140485252e-05\n",
      "Significant differences exist for 'I think doing this task could help me to memorize the locations of useful commands when I'm using complex software.', with a p-value of 1.2563984828749522e-07\n",
      "\n",
      "\n",
      "For Spotlight v. No Guide:\n",
      "Significant differences exist for 'I put a lot of effort into this task.', with a p-value of 0.0012072536022695018\n",
      "Significant differences exist for 'I was very relaxed in doing this task.', with a p-value of 0.019692042602217116\n"
     ]
    }
   ],
   "source": [
    "print(\"Getting Kruskal Wallis H Test results...\")\n",
    "print(\"\\n\")\n",
    "print(\"For Simon v. Spotlight:\")\n",
    "get_kruskal_wallis(SIMON_IMI, SPOTLIGHT_IMI)\n",
    "print(\"\\n\")\n",
    "print(\"For Simon v. No Guide:\")\n",
    "get_kruskal_wallis(SIMON_IMI, NO_GUIDE_IMI)\n",
    "print(\"\\n\")\n",
    "print(\"For Spotlight v. No Guide:\")\n",
    "get_kruskal_wallis(SPOTLIGHT_IMI, NO_GUIDE_IMI)\n"
   ]
  },
  {
   "cell_type": "markdown",
   "id": "6950f4ff",
   "metadata": {},
   "source": [
    "## Mann-Whitney"
   ]
  },
  {
   "cell_type": "code",
   "execution_count": 51,
   "id": "7bc76630",
   "metadata": {},
   "outputs": [],
   "source": [
    "def get_mann_whitney(imi_one, imi_two):\n",
    "    for dimension in imi_dimensions:\n",
    "        statistic, pval = stats.mannwhitneyu(imi_one[dimension], imi_two[dimension], alternative='two-sided')\n",
    "        if pval < 0.05:\n",
    "            print(f\"Significant differences exist for '{MOTIVATION_8_PART_STATEMENTS[dimension]}', with a p-value of {pval}\")"
   ]
  },
  {
   "cell_type": "code",
   "execution_count": 52,
   "id": "f3beef91",
   "metadata": {},
   "outputs": [
    {
     "name": "stdout",
     "output_type": "stream",
     "text": [
      "Getting Mann-Whitney U Test results...\n",
      "\n",
      "\n",
      "For Simon v. Spotlight:\n",
      "Significant differences exist for 'I would skip further training because I have already memorized the locations.', with a p-value of 0.0005014463896434665\n",
      "Significant differences exist for 'I would skip further training because I do not want to continue doing this task.', with a p-value of 0.00034100418752082266\n",
      "Significant differences exist for 'I think doing this task could help me to memorize the locations of useful commands when I'm using complex software.', with a p-value of 2.9241964128365364e-12\n",
      "\n",
      "\n",
      "For Simon v. No Guide:\n",
      "Significant differences exist for 'I would skip further training because I have already memorized the locations.', with a p-value of 0.013058874202326466\n",
      "Significant differences exist for 'I would skip further training because I do not want to continue doing this task.', with a p-value of 8.442011946337468e-07\n",
      "Significant differences exist for 'I am satisfied with my performance at this task.', with a p-value of 0.018086240217055637\n",
      "Significant differences exist for 'I put a lot of effort into this task.', with a p-value of 3.367632062060455e-05\n",
      "Significant differences exist for 'I think doing this task could help me to memorize the locations of useful commands when I'm using complex software.', with a p-value of 1.263458231742041e-07\n",
      "\n",
      "\n",
      "For Spotlight v. No Guide:\n",
      "Significant differences exist for 'I put a lot of effort into this task.', with a p-value of 0.0012122559825603813\n",
      "Significant differences exist for 'I was very relaxed in doing this task.', with a p-value of 0.01974227910823589\n"
     ]
    }
   ],
   "source": [
    "print(\"Getting Mann-Whitney U Test results...\")\n",
    "print(\"\\n\")\n",
    "print(\"For Simon v. Spotlight:\")\n",
    "get_mann_whitney(SIMON_IMI, SPOTLIGHT_IMI)\n",
    "print(\"\\n\")\n",
    "print(\"For Simon v. No Guide:\")\n",
    "get_mann_whitney(SIMON_IMI, NO_GUIDE_IMI)\n",
    "print(\"\\n\")\n",
    "print(\"For Spotlight v. No Guide:\")\n",
    "get_mann_whitney(SPOTLIGHT_IMI, NO_GUIDE_IMI)\n",
    "\n",
    "\n",
    "\n"
   ]
  },
  {
   "cell_type": "markdown",
   "id": "47ae9f7b",
   "metadata": {},
   "source": [
    "## ART-transformed ANOVA "
   ]
  },
  {
   "cell_type": "code",
   "execution_count": null,
   "id": "ca694749",
   "metadata": {},
   "outputs": [],
   "source": [
    "# from statsmodels.formula.api import ols\n",
    "# from rpy2.robjects import pandas2ri\n",
    "# import statsmodels.api as sm\n",
    "# import rpy2.robjects as ro\n",
    "\n",
    "\n",
    "# pandas2ri.activate()\n",
    "# ro.r('library(ARTool)')\n",
    "\n",
    "# art_results = {}\n",
    "# for dim in imi_dimensions:\n",
    "#     # Prepare data for R\n",
    "#     df_r = IMI[['condition', dim]].copy()\n",
    "#     df_r[dim] = df_r[dim].astype(str)\n",
    "#     df_r = df_r.dropna()\n",
    "#     pandas2ri.activate()\n",
    "#     ro.globalenv['df_r'] = df_r\n",
    "#     ro.r(f'art_model <- art({dim} ~ condition, data = df_r)')\n",
    "#     ro.r('anova_res <- anova(art_model)')\n",
    "#     art_results[dim] = ro.r('anova_res')\n",
    "\n",
    "#     # Example: print ART ANOVA result for one dimension\n",
    "# print(art_results['attention'])"
   ]
  }
 ],
 "metadata": {
  "kernelspec": {
   "display_name": "base",
   "language": "python",
   "name": "python3"
  },
  "language_info": {
   "codemirror_mode": {
    "name": "ipython",
    "version": 3
   },
   "file_extension": ".py",
   "mimetype": "text/x-python",
   "name": "python",
   "nbconvert_exporter": "python",
   "pygments_lexer": "ipython3",
   "version": "3.9.12"
  }
 },
 "nbformat": 4,
 "nbformat_minor": 5
}
