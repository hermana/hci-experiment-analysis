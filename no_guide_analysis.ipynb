{
 "cells": [
  {
   "cell_type": "markdown",
   "id": "2f49c445",
   "metadata": {},
   "source": [
    "# CommandMap Gamification Analysis : The \"No Game\" Pilot\n",
    "\n"
   ]
  },
  {
   "cell_type": "code",
   "execution_count": 31,
   "id": "f729925c",
   "metadata": {},
   "outputs": [],
   "source": [
    "import pandas as pd\n",
    "import sqlite3\n",
    "import seaborn as sns\n",
    "\n",
    "\n",
    "MY_DATA_PATH = \"./data/noGuide.db\"\n",
    "\n",
    "TRIAL_TABLE_NAME = \"table_trialLog\"\n",
    "DEMOGRAPHICS = \"questionnaire_demographics\"\n",
    "MOTIVATION_SHORT_ONE = \"questionnaire_motivation_short\"\n",
    "MOTIVATION_SHORT_DUPLICATE = \"questionnaire_motivation_short_duplicate\"\n",
    "MOTIVATION = \"questionnaire_motivation\"\n",
    "PARTICIPANT = \"participant\"\n",
    "PROGRESS = \"progress\"\n"
   ]
  },
  {
   "cell_type": "markdown",
   "id": "fcf30a0b",
   "metadata": {},
   "source": [
    "## Read in the data"
   ]
  },
  {
   "cell_type": "code",
   "execution_count": 32,
   "id": "5ec272d2",
   "metadata": {},
   "outputs": [
    {
     "name": "stdout",
     "output_type": "stream",
     "text": [
      "Your database contains the following tables:\n",
      "[('participant',), ('progress',), ('radio_grid_log',), ('display',), ('session_store',), ('questionnaire_motivation_short_duplicate',), ('questionnaire_motivation',), ('questionnaire_preferences',), ('questionnaire_prolific_start',), ('questionnaire_motivation_short',), ('questionnaire_demographics',), ('table_trialLog',), ('table_streamLog',)]\n"
     ]
    }
   ],
   "source": [
    "connection = sqlite3.connect(MY_DATA_PATH)\n",
    "cursor = connection.cursor()\n",
    "\n",
    "# reading all table names\n",
    "table_list = [a for a in cursor.execute(\"SELECT name FROM sqlite_master WHERE type = 'table'\")]\n",
    "\n",
    "print(\"Your database contains the following tables:\")\n",
    "print(table_list)\n",
    "\n",
    "TRIAL_DATA = pd.read_sql_query(f\"SELECT *FROM {TRIAL_TABLE_NAME}\", connection)\n",
    "DEMOGRAPHICS = pd.read_sql_query(f\"SELECT * FROM {DEMOGRAPHICS}\", connection)\n",
    "MOTIVATION_SHORT_ONE = pd.read_sql_query(f\"SELECT * FROM {MOTIVATION_SHORT_ONE}\", connection)\n",
    "NOTIVATION_SHORT_DUPLICATE = pd.read_sql_query(f\"SELECT * FROM {MOTIVATION_SHORT_DUPLICATE}\", connection)\n",
    "MOTIVATION = pd.read_sql_query(f\"SELECT * FROM {MOTIVATION}\", connection)\n",
    "PARTICIPANT = pd.read_sql_query(f\"SELECT * FROM {PARTICIPANT}\", connection)\n",
    "PROGRESS = pd.read_sql_query(f\"SELECT * FROM {PROGRESS}\", connection)\n",
    "\n",
    "connection.close()"
   ]
  },
  {
   "cell_type": "markdown",
   "id": "b1da1dce",
   "metadata": {},
   "source": [
    "## Preprocessing\n",
    "\n",
    "Of the participants who did not abandon the study, one participant timed out and another reported technical issues. There were additional records in the database generated from testing the study on the server. All of these are removed before analysis. \n",
    "\n",
    "After removing unusable data, there are 10 participants. "
   ]
  },
  {
   "cell_type": "code",
   "execution_count": 33,
   "id": "dc4992c8",
   "metadata": {},
   "outputs": [],
   "source": [
    "# IDs 1-3: Testing\n",
    "# IDs 5, 8, 13: Technical issue, did not finish, timeout\n",
    "\n",
    "IDS_TO_REMOVE = [1, 2, 3, 5, 8, 13]\n",
    "\n",
    "TRIAL_DATA = TRIAL_DATA[~TRIAL_DATA[\"participantID\"].isin(IDS_TO_REMOVE)]\n",
    "DEMOGRAPHICS = DEMOGRAPHICS[~DEMOGRAPHICS[\"participantID\"].isin(IDS_TO_REMOVE)]\n",
    "MOTIVATION_SHORT_ONE = MOTIVATION_SHORT_ONE[~MOTIVATION_SHORT_ONE[\"participantID\"].isin(IDS_TO_REMOVE)]\n",
    "NOTIVATION_SHORT_DUPLICATE = NOTIVATION_SHORT_DUPLICATE[~NOTIVATION_SHORT_DUPLICATE[\"participantID\"].isin(IDS_TO_REMOVE)]\n",
    "MOTIVATION = MOTIVATION[~MOTIVATION[\"participantID\"].isin(IDS_TO_REMOVE)]\n",
    "PARTICIPANT = PARTICIPANT[~PARTICIPANT[\"participantID\"].isin(IDS_TO_REMOVE)]\n",
    "PROGRESS = PROGRESS[~PROGRESS[\"participantID\"].isin(IDS_TO_REMOVE)]\n",
    "\n"
   ]
  },
  {
   "cell_type": "markdown",
   "id": "b2c156b7",
   "metadata": {},
   "source": [
    "## Demographic Data Overview\n"
   ]
  },
  {
   "cell_type": "markdown",
   "id": "9f2ee5a8",
   "metadata": {},
   "source": [
    "All participants were familiar with Micosoft applications and did not have colour vision deficiency. One participant reported that they did not have normal visual ability but declined to specify the nature of their visual disability. "
   ]
  },
  {
   "cell_type": "code",
   "execution_count": 34,
   "id": "e30f5750",
   "metadata": {},
   "outputs": [
    {
     "data": {
      "text/html": [
       "<div>\n",
       "<style scoped>\n",
       "    .dataframe tbody tr th:only-of-type {\n",
       "        vertical-align: middle;\n",
       "    }\n",
       "\n",
       "    .dataframe tbody tr th {\n",
       "        vertical-align: top;\n",
       "    }\n",
       "\n",
       "    .dataframe thead th {\n",
       "        text-align: right;\n",
       "    }\n",
       "</style>\n",
       "<table border=\"1\" class=\"dataframe\">\n",
       "  <thead>\n",
       "    <tr style=\"text-align: right;\">\n",
       "      <th></th>\n",
       "      <th>microsoftFamiliarity</th>\n",
       "      <th>visionAbility</th>\n",
       "      <th>CVD</th>\n",
       "      <th>visionAblilityType</th>\n",
       "    </tr>\n",
       "  </thead>\n",
       "  <tbody>\n",
       "    <tr>\n",
       "      <th>1</th>\n",
       "      <td>Yes</td>\n",
       "      <td>Yes</td>\n",
       "      <td>No</td>\n",
       "      <td></td>\n",
       "    </tr>\n",
       "    <tr>\n",
       "      <th>3</th>\n",
       "      <td>Yes</td>\n",
       "      <td>Yes</td>\n",
       "      <td>No</td>\n",
       "      <td></td>\n",
       "    </tr>\n",
       "    <tr>\n",
       "      <th>4</th>\n",
       "      <td>Yes</td>\n",
       "      <td>Yes</td>\n",
       "      <td>No</td>\n",
       "      <td></td>\n",
       "    </tr>\n",
       "    <tr>\n",
       "      <th>5</th>\n",
       "      <td>Yes</td>\n",
       "      <td>No</td>\n",
       "      <td>No</td>\n",
       "      <td></td>\n",
       "    </tr>\n",
       "    <tr>\n",
       "      <th>6</th>\n",
       "      <td>Yes</td>\n",
       "      <td>Yes</td>\n",
       "      <td>No</td>\n",
       "      <td></td>\n",
       "    </tr>\n",
       "    <tr>\n",
       "      <th>7</th>\n",
       "      <td>Yes</td>\n",
       "      <td>Yes</td>\n",
       "      <td>No</td>\n",
       "      <td></td>\n",
       "    </tr>\n",
       "    <tr>\n",
       "      <th>9</th>\n",
       "      <td>Yes</td>\n",
       "      <td>No</td>\n",
       "      <td>No</td>\n",
       "      <td></td>\n",
       "    </tr>\n",
       "    <tr>\n",
       "      <th>11</th>\n",
       "      <td>Yes</td>\n",
       "      <td>Yes</td>\n",
       "      <td>No</td>\n",
       "      <td></td>\n",
       "    </tr>\n",
       "    <tr>\n",
       "      <th>12</th>\n",
       "      <td>Yes</td>\n",
       "      <td>Yes</td>\n",
       "      <td>No</td>\n",
       "      <td></td>\n",
       "    </tr>\n",
       "    <tr>\n",
       "      <th>13</th>\n",
       "      <td>Yes</td>\n",
       "      <td>Yes</td>\n",
       "      <td>No</td>\n",
       "      <td></td>\n",
       "    </tr>\n",
       "  </tbody>\n",
       "</table>\n",
       "</div>"
      ],
      "text/plain": [
       "   microsoftFamiliarity visionAbility CVD visionAblilityType\n",
       "1                   Yes           Yes  No                   \n",
       "3                   Yes           Yes  No                   \n",
       "4                   Yes           Yes  No                   \n",
       "5                   Yes            No  No                   \n",
       "6                   Yes           Yes  No                   \n",
       "7                   Yes           Yes  No                   \n",
       "9                   Yes            No  No                   \n",
       "11                  Yes           Yes  No                   \n",
       "12                  Yes           Yes  No                   \n",
       "13                  Yes           Yes  No                   "
      ]
     },
     "execution_count": 34,
     "metadata": {},
     "output_type": "execute_result"
    }
   ],
   "source": [
    "DEMOGRAPHICS[[\"microsoftFamiliarity\", \"visionAbility\", \"CVD\", \"visionAblilityType\"]]"
   ]
  },
  {
   "cell_type": "markdown",
   "id": "341687c5",
   "metadata": {},
   "source": [
    "The participants consisted of 8 women and 2 men. "
   ]
  },
  {
   "cell_type": "code",
   "execution_count": 35,
   "id": "a33300a9",
   "metadata": {},
   "outputs": [
    {
     "data": {
      "text/plain": [
       "<AxesSubplot:xlabel='gender', ylabel='Count'>"
      ]
     },
     "execution_count": 35,
     "metadata": {},
     "output_type": "execute_result"
    },
    {
     "data": {
      "image/png": "[encoded data removed]",
      "text/plain": [
       "<Figure size 432x288 with 1 Axes>"
      ]
     },
     "metadata": {
      "needs_background": "light"
     },
     "output_type": "display_data"
    }
   ],
   "source": [
    "\n",
    "\n",
    "sns.histplot(DEMOGRAPHICS[\"gender\"])"
   ]
  },
  {
   "cell_type": "markdown",
   "id": "6caa595d",
   "metadata": {},
   "source": [
    "Ages of participants ranged from 22 to 72."
   ]
  },
  {
   "cell_type": "code",
   "execution_count": 36,
   "id": "aeef9716",
   "metadata": {},
   "outputs": [
    {
     "data": {
      "text/plain": [
       "<AxesSubplot:xlabel='age', ylabel='Count'>"
      ]
     },
     "execution_count": 36,
     "metadata": {},
     "output_type": "execute_result"
    },
    {
     "data": {
      "image/png": "[encoded data removed]",
      "text/plain": [
       "<Figure size 432x288 with 1 Axes>"
      ]
     },
     "metadata": {
      "needs_background": "light"
     },
     "output_type": "display_data"
    }
   ],
   "source": [
    "DEMOGRAPHICS['age'].max()\n",
    "DEMOGRAPHICS['age'].min()\n",
    "\n",
    "sns.histplot(DEMOGRAPHICS[\"age\"])"
   ]
  },
  {
   "cell_type": "code",
   "execution_count": 37,
   "id": "3b06a95e",
   "metadata": {},
   "outputs": [
    {
     "data": {
      "text/plain": [
       "1                Retail Manager\n",
       "3                retail manager\n",
       "4                    Unemployed\n",
       "5                       manager\n",
       "6                   Real Estate\n",
       "7                Events manager\n",
       "9                      Designer\n",
       "11       assistant psychologist\n",
       "12                      manager\n",
       "13    Community Care Supervisor\n",
       "Name: occupation, dtype: object"
      ]
     },
     "execution_count": 37,
     "metadata": {},
     "output_type": "execute_result"
    }
   ],
   "source": [
    "DEMOGRAPHICS[\"occupation\"]"
   ]
  },
  {
   "cell_type": "markdown",
   "id": "d5dba0c6",
   "metadata": {},
   "source": [
    "Many participants spent a fair amount of time using a computer (most were roughly between 55 and 65 hours a week.) All were familiar with Microsoft applications."
   ]
  },
  {
   "cell_type": "code",
   "execution_count": 38,
   "id": "f7dcf3b1",
   "metadata": {},
   "outputs": [
    {
     "data": {
      "text/plain": [
       "<AxesSubplot:xlabel='compUsage', ylabel='Count'>"
      ]
     },
     "execution_count": 38,
     "metadata": {},
     "output_type": "execute_result"
    },
    {
     "data": {
      "image/png": "[encoded data removed]",
      "text/plain": [
       "<Figure size 432x288 with 1 Axes>"
      ]
     },
     "metadata": {
      "needs_background": "light"
     },
     "output_type": "display_data"
    }
   ],
   "source": [
    "sns.histplot(DEMOGRAPHICS['compUsage'])"
   ]
  },
  {
   "cell_type": "markdown",
   "id": "01a894bf",
   "metadata": {},
   "source": [
    "Generally, the participants were not big gamers, but most spent some of their time gaming. Six participants play games less than 3 hours per week, with three reporting that they do not generally spend time playing video games.  "
   ]
  },
  {
   "cell_type": "code",
   "execution_count": 39,
   "id": "738d5634",
   "metadata": {},
   "outputs": [
    {
     "data": {
      "text/plain": [
       "1      6\n",
       "3      1\n",
       "4      3\n",
       "5     15\n",
       "6      2\n",
       "7      0\n",
       "9      0\n",
       "11     1\n",
       "12     5\n",
       "13     0\n",
       "Name: videoGameUsage, dtype: int64"
      ]
     },
     "execution_count": 39,
     "metadata": {},
     "output_type": "execute_result"
    }
   ],
   "source": [
    "DEMOGRAPHICS['videoGameUsage']"
   ]
  },
  {
   "cell_type": "code",
   "execution_count": 40,
   "id": "2fa1bc66",
   "metadata": {},
   "outputs": [
    {
     "data": {
      "text/plain": [
       "<AxesSubplot:xlabel='videoGameUsage', ylabel='Count'>"
      ]
     },
     "execution_count": 40,
     "metadata": {},
     "output_type": "execute_result"
    },
    {
     "data": {
      "image/png": "[encoded data removed]",
      "text/plain": [
       "<Figure size 432x288 with 1 Axes>"
      ]
     },
     "metadata": {
      "needs_background": "light"
     },
     "output_type": "display_data"
    }
   ],
   "source": [
    "sns.histplot(DEMOGRAPHICS['videoGameUsage'])"
   ]
  },
  {
   "cell_type": "markdown",
   "id": "30d5d05e",
   "metadata": {},
   "source": [
    "## Initial Motivational Survey\n",
    "\n"
   ]
  },
  {
   "cell_type": "code",
   "execution_count": 41,
   "id": "492ee790",
   "metadata": {},
   "outputs": [
    {
     "data": {
      "text/plain": [
       "Index(['motivationID', 'participantID', 'tag', 'timeStarted', 'timeEnded',\n",
       "       'boring_task', 'enjoyable_task', 'satisfied_performance',\n",
       "       'couldnt_do_well', 'effort_task', 'didnt_try_hard', 'felt_tense',\n",
       "       'relaxed_task', 'help_memorize_commands', 'ability_matched_difficulty',\n",
       "       'attention', 'interesting_things', 'genuine_pride',\n",
       "       'intuitive_controls', 'total_control', 'time_alter',\n",
       "       'aware_performance', 'no_effort_focus', 'not_worried_performance',\n",
       "       'spontaneous_automatic', 'goals_defined', 'MentalDemand',\n",
       "       'PhysicalDemand', 'TemporalDemand', 'Performance', 'Effort',\n",
       "       'Frustration', 'Accuracy', 'Speed', 'LearningEffort', 'Learning'],\n",
       "      dtype='object')"
      ]
     },
     "execution_count": 41,
     "metadata": {},
     "output_type": "execute_result"
    }
   ],
   "source": [
    "MOTIVATION.columns"
   ]
  },
  {
   "cell_type": "code",
   "execution_count": 44,
   "id": "6b5d4df0",
   "metadata": {},
   "outputs": [
    {
     "data": {
      "text/plain": [
       "<AxesSubplot:xlabel='boring_task', ylabel='Count'>"
      ]
     },
     "execution_count": 44,
     "metadata": {},
     "output_type": "execute_result"
    },
    {
     "data": {
      "image/png": "[encoded data removed]",
      "text/plain": [
       "<Figure size 432x288 with 1 Axes>"
      ]
     },
     "metadata": {
      "needs_background": "light"
     },
     "output_type": "display_data"
    }
   ],
   "source": [
    "\n",
    "\n",
    "MOTIVATION['boring_task'] = MOTIVATION['boring_task'].astype('int64')\n",
    "MOTIVATION['boring_task'] = MOTIVATION['boring_task'].replace('1 (Strongly Disagree)', 1)\n",
    "\n",
    "sns.histplot(data=MOTIVATION, x=\"boring_task\")"
   ]
  },
  {
   "cell_type": "code",
   "execution_count": 46,
   "id": "8bb1e393",
   "metadata": {},
   "outputs": [
    {
     "data": {
      "text/plain": [
       "<bound method Series.unique of 1                      5\n",
       "3     7 (Strongly Agree)\n",
       "4                      2\n",
       "5                      4\n",
       "6                      5\n",
       "7                      2\n",
       "8                      2\n",
       "10                     6\n",
       "12                     5\n",
       "Name: enjoyable_task, dtype: object>"
      ]
     },
     "execution_count": 46,
     "metadata": {},
     "output_type": "execute_result"
    }
   ],
   "source": [
    "MOTIVATION['enjoyable_task'].unique"
   ]
  },
  {
   "cell_type": "code",
   "execution_count": 47,
   "id": "1d6fe67a",
   "metadata": {},
   "outputs": [
    {
     "data": {
      "text/plain": [
       "<AxesSubplot:xlabel='enjoyable_task', ylabel='Count'>"
      ]
     },
     "execution_count": 47,
     "metadata": {},
     "output_type": "execute_result"
    },
    {
     "data": {
      "image/png": "[encoded data removed]",
      "text/plain": [
       "<Figure size 432x288 with 1 Axes>"
      ]
     },
     "metadata": {
      "needs_background": "light"
     },
     "output_type": "display_data"
    }
   ],
   "source": [
    "MOTIVATION['enjoyable_task'] = MOTIVATION['enjoyable_task'].replace('7 (Strongly Agree)', '1')\n",
    "MOTIVATION['enjoyable_task'] = MOTIVATION['enjoyable_task'].astype('int64')\n",
    "\n",
    "sns.histplot(MOTIVATION[\"enjoyable_task\"])"
   ]
  },
  {
   "cell_type": "code",
   "execution_count": 49,
   "id": "e0823cc2",
   "metadata": {},
   "outputs": [
    {
     "data": {
      "text/plain": [
       "<AxesSubplot:xlabel='satisfied_performance', ylabel='Count'>"
      ]
     },
     "execution_count": 49,
     "metadata": {},
     "output_type": "execute_result"
    },
    {
     "data": {
      "image/png": "[encoded data removed]",
      "text/plain": [
       "<Figure size 432x288 with 1 Axes>"
      ]
     },
     "metadata": {
      "needs_background": "light"
     },
     "output_type": "display_data"
    }
   ],
   "source": [
    "MOTIVATION['satisfied_performance'] = MOTIVATION['satisfied_performance'].replace('7 (Strongly Agree)', '1')\n",
    "MOTIVATION['satisfied_performance'] = MOTIVATION['satisfied_performance'].replace('1 (Strongly Disagree)', '1')\n",
    "MOTIVATION['satisfied_performance'] = MOTIVATION['satisfied_performance'].astype('int64')\n",
    "\n",
    "sns.histplot(MOTIVATION[\"satisfied_performance\"])"
   ]
  }
 ],
 "metadata": {
  "kernelspec": {
   "display_name": "base",
   "language": "python",
   "name": "python3"
  },
  "language_info": {
   "codemirror_mode": {
    "name": "ipython",
    "version": 3
   },
   "file_extension": ".py",
   "mimetype": "text/x-python",
   "name": "python",
   "nbconvert_exporter": "python",
   "pygments_lexer": "ipython3",
   "version": "3.9.12"
  }
 },
 "nbformat": 4,
 "nbformat_minor": 5
}
